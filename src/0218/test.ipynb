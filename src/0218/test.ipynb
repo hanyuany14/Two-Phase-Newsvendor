{
 "cells": [
  {
   "cell_type": "code",
   "execution_count": 7,
   "metadata": {},
   "outputs": [
    {
     "name": "stdout",
     "output_type": "stream",
     "text": [
      "Set parameter WLSAccessID\n",
      "Set parameter WLSSecret\n",
      "Set parameter LicenseID to value 2563044\n",
      "Academic license 2563044 - for non-commercial use only - registered to 11___@g.nccu.edu.tw\n"
     ]
    }
   ],
   "source": [
    "import gurobipy as gp\n",
    "\n",
    "params = {\n",
    "    \"WLSACCESSID\": \"6b17a71b-0eef-4689-af84-ccf48839fa6c\",\n",
    "    \"WLSSECRET\": \"c045855e-1648-4bba-8fa2-11c3b1fc201e\",\n",
    "    \"LICENSEID\": 2563044,\n",
    "}\n",
    "\n",
    "# WLSACCESSID=6b17a71b-0eef-4689-af84-ccf48839fa6c\n",
    "# WLSSECRET=c045855e-1648-4bba-8fa2-11c3b1fc201e\n",
    "# LICENSEID=2563044\n",
    "\n",
    "env = gp.Env(params=params)\n",
    "model = gp.Model(env=env)"
   ]
  }
 ],
 "metadata": {
  "kernelspec": {
   "display_name": ".venv",
   "language": "python",
   "name": "python3"
  },
  "language_info": {
   "codemirror_mode": {
    "name": "ipython",
    "version": 3
   },
   "file_extension": ".py",
   "mimetype": "text/x-python",
   "name": "python",
   "nbconvert_exporter": "python",
   "pygments_lexer": "ipython3",
   "version": "3.11.4"
  }
 },
 "nbformat": 4,
 "nbformat_minor": 2
}
